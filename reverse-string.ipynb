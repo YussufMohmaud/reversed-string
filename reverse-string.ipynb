{
 "cells": [
  {
   "cell_type": "code",
   "execution_count": 7,
   "metadata": {},
   "outputs": [],
   "source": [
    "reverse_this = 'abcd'"
   ]
  },
  {
   "cell_type": "code",
   "execution_count": 10,
   "metadata": {},
   "outputs": [],
   "source": [
    "# 1. Python Reverse String using For Loop\n",
    "def reverse_for_loop(string):\n",
    "    tokens = ''\n",
    "    for token in string:\n",
    "        tokens = token + tokens # appending individual characters in reverse\n",
    "    return tokens"
   ]
  },
  {
   "cell_type": "code",
   "execution_count": 11,
   "metadata": {},
   "outputs": [
    {
     "name": "stdout",
     "output_type": "stream",
     "text": [
      "Reverse string using for loop:  dcba\n"
     ]
    }
   ],
   "source": [
    "print('Reverse string using for loop: ', reverse_for_loop(reverse_this))"
   ]
  },
  {
   "cell_type": "code",
   "execution_count": 18,
   "metadata": {},
   "outputs": [],
   "source": [
    "# 2. Python Reverse String using While Loop\n",
    "def reverse_while_loop(string):\n",
    "    tokens = ''\n",
    "    counter = len(string) - 1\n",
    "    while counter >= 0:\n",
    "        tokens += string[counter]\n",
    "        counter =  counter - 1\n",
    "    return tokens"
   ]
  },
  {
   "cell_type": "code",
   "execution_count": 19,
   "metadata": {},
   "outputs": [
    {
     "name": "stdout",
     "output_type": "stream",
     "text": [
      "Reverse String using While Loop:  dcba\n"
     ]
    }
   ],
   "source": [
    "print('Reverse String using While Loop: ', reverse_while_loop(reverse_this))"
   ]
  },
  {
   "cell_type": "code",
   "execution_count": 20,
   "metadata": {},
   "outputs": [],
   "source": [
    "# 3. Python Reverse String using join() and reversed()\n",
    "def reverse_join_reversed_iter(string):\n",
    "    tokens = ''.join(reversed(string))\n",
    "    return tokens"
   ]
  },
  {
   "cell_type": "code",
   "execution_count": 21,
   "metadata": {},
   "outputs": [
    {
     "name": "stdout",
     "output_type": "stream",
     "text": [
      "Reverse String using join() and reversed():  dcba\n"
     ]
    }
   ],
   "source": [
    "print('Reverse String using join() and reversed(): ', reverse_join_reversed_iter(reverse_this))"
   ]
  },
  {
   "cell_type": "code",
   "execution_count": 22,
   "metadata": {},
   "outputs": [],
   "source": [
    "# 4. Python Reverse String using Recursion\n",
    "def reverse_recursion(string):\n",
    "    if len(string) == 0:\n",
    "        return string\n",
    "    else:\n",
    "        return reverse_recursion(string[1:]) + string[0]"
   ]
  },
  {
   "cell_type": "code",
   "execution_count": 23,
   "metadata": {},
   "outputs": [
    {
     "name": "stdout",
     "output_type": "stream",
     "text": [
      "Reverse String using Recursion:  dcba\n"
     ]
    }
   ],
   "source": [
    "print('Reverse String using Recursion: ', reverse_recursion(reverse_this))"
   ]
  },
  {
   "cell_type": "code",
   "execution_count": 24,
   "metadata": {},
   "outputs": [],
   "source": [
    "# 5. Python Reverse String using List reverse()\n",
    "def reverse_list(string):\n",
    "    tokens = list(string)\n",
    "    tokens.reverse()\n",
    "    return ''.join(tokens)"
   ]
  },
  {
   "cell_type": "code",
   "execution_count": 25,
   "metadata": {},
   "outputs": [
    {
     "name": "stdout",
     "output_type": "stream",
     "text": [
      "Reverse String using List reverse():  dcba\n"
     ]
    }
   ],
   "source": [
    "print('Reverse String using List reverse(): ', reverse_list(reverse_this))"
   ]
  },
  {
   "cell_type": "code",
   "execution_count": 26,
   "metadata": {},
   "outputs": [],
   "source": [
    "# 6. Python Reverse String using Slicing\n",
    "def reverse_slicing(string):\n",
    "    return string[::-1]"
   ]
  },
  {
   "cell_type": "code",
   "execution_count": 27,
   "metadata": {},
   "outputs": [
    {
     "name": "stdout",
     "output_type": "stream",
     "text": [
      "Reverse String using Slicing:  dcba\n"
     ]
    }
   ],
   "source": [
    "print('Reverse String using Slicing: ', reverse_slicing(reverse_this))"
   ]
  },
  {
   "cell_type": "code",
   "execution_count": 42,
   "metadata": {},
   "outputs": [
    {
     "name": "stdout",
     "output_type": "stream",
     "text": [
      "153 ns ± 79.1 ns per loop (mean ± std. dev. of 7 runs, 100000 loops each)\n"
     ]
    }
   ],
   "source": [
    "%timeit -n 100000 'reverse_for_loop(\"abcd\"*10)'"
   ]
  },
  {
   "cell_type": "code",
   "execution_count": 43,
   "metadata": {},
   "outputs": [
    {
     "name": "stdout",
     "output_type": "stream",
     "text": [
      "128 ns ± 61.4 ns per loop (mean ± std. dev. of 7 runs, 100000 loops each)\n"
     ]
    }
   ],
   "source": [
    "%timeit -n 100000 'reverse_while_loop(\"abcd\"*10)'"
   ]
  },
  {
   "cell_type": "code",
   "execution_count": 44,
   "metadata": {},
   "outputs": [
    {
     "name": "stdout",
     "output_type": "stream",
     "text": [
      "112 ns ± 51.8 ns per loop (mean ± std. dev. of 7 runs, 100000 loops each)\n"
     ]
    }
   ],
   "source": [
    "%timeit -n 100000 'reverse_join_reversed_iter(\"abcd\"*10)'"
   ]
  },
  {
   "cell_type": "code",
   "execution_count": 49,
   "metadata": {},
   "outputs": [
    {
     "name": "stdout",
     "output_type": "stream",
     "text": [
      "124 ns ± 55.3 ns per loop (mean ± std. dev. of 7 runs, 100000 loops each)\n"
     ]
    }
   ],
   "source": [
    "%timeit -n 100000 'reverse_recursion(\"abcd\"*10)'"
   ]
  },
  {
   "cell_type": "code",
   "execution_count": 50,
   "metadata": {},
   "outputs": [
    {
     "name": "stdout",
     "output_type": "stream",
     "text": [
      "116 ns ± 55 ns per loop (mean ± std. dev. of 7 runs, 100000 loops each)\n"
     ]
    }
   ],
   "source": [
    "%timeit -n 100000 'reverse_list(\"abcd\"*10)'"
   ]
  },
  {
   "cell_type": "code",
   "execution_count": 51,
   "metadata": {},
   "outputs": [
    {
     "name": "stdout",
     "output_type": "stream",
     "text": [
      "122 ns ± 55 ns per loop (mean ± std. dev. of 7 runs, 100000 loops each)\n"
     ]
    }
   ],
   "source": [
    "%timeit -n 100000 'reverse_slicing(\"abcd\"*10)'"
   ]
  }
 ],
 "metadata": {
  "kernelspec": {
   "display_name": "Python 3",
   "language": "python",
   "name": "python3"
  },
  "language_info": {
   "codemirror_mode": {
    "name": "ipython",
    "version": 3
   },
   "file_extension": ".py",
   "mimetype": "text/x-python",
   "name": "python",
   "nbconvert_exporter": "python",
   "pygments_lexer": "ipython3",
   "version": "3.8.3"
  }
 },
 "nbformat": 4,
 "nbformat_minor": 4
}
